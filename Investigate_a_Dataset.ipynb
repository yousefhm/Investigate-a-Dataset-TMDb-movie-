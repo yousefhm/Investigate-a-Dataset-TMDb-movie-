{
  "nbformat": 4,
  "nbformat_minor": 0,
  "metadata": {
    "colab": {
      "name": "Investigate a Dataset.ipynb",
      "provenance": [],
      "collapsed_sections": [],
      "toc_visible": true,
      "authorship_tag": "ABX9TyOuP1ep1LvhrwbcgJkA3jhl",
      "include_colab_link": true
    },
    "kernelspec": {
      "name": "python3",
      "display_name": "Python 3"
    }
  },
  "cells": [
    {
      "cell_type": "markdown",
      "metadata": {
        "id": "view-in-github",
        "colab_type": "text"
      },
      "source": [
        "<a href=\"https://colab.research.google.com/github/yousefhm/Investigate-a-Dataset-TMDb-movie-/blob/main/Investigate_a_Dataset.ipynb\" target=\"_parent\"><img src=\"https://colab.research.google.com/assets/colab-badge.svg\" alt=\"Open In Colab\"/></a>"
      ]
    },
    {
      "cell_type": "markdown",
      "metadata": {
        "id": "vCP8c0pWywPm"
      },
      "source": [
        "#**Project: Investigate a Dataset (TMDb movie)**\n",
        "The primary goal of the project is to go through the dataset and the general data analysis process using numpy, pandas and matplotlib and other. This contain four parts:\n",
        "\n",
        "\n",
        "\n",
        "**Table of Contents:**\n",
        "*   Introduction\n",
        "*   Data wrangling \n",
        "*   Exploratory data analysis\n",
        "*   Conclusions\n",
        "\n",
        "\n",
        "\n",
        "\n",
        "\n"
      ]
    },
    {
      "cell_type": "markdown",
      "metadata": {
        "id": "YpYnFYLkDRuK"
      },
      "source": [
        "## Introduction\n",
        "\n",
        "**Dataset**\n",
        "\n",
        "* In this notebook I working on the TMDb movie data se (cleaned from original data on Kaggle) I selected this data set for analysis. \n",
        "This data set contains information about 10,000 movies collected from The Movie Database (TMDb), including user ratings and revenue.\n",
        "\n",
        "    **Contain:**\n",
        "\n",
        "      *   Total Rows = 10866\n",
        "      *   Total Columns = 21\n",
        "\n",
        "**Questions**\n",
        "\n",
        "\n",
        "1.   Which year has the highest release of movies?\n",
        "2.   What is the top 10 production companies produce movies?\n",
        "3.   What kinds of properties are associated with movies that have high revenues?\n",
        "4.   Which Month Released Highest Number Of Movies In All Of The Years? And Which Month Made The Highest Average Revenue?\n",
        "5.   Which genres are most popular?\n",
        "\n"
      ]
    },
    {
      "cell_type": "markdown",
      "metadata": {
        "id": "Ni-Ep1EeCUOx"
      },
      "source": [
        "Import Packages and libraries"
      ]
    },
    {
      "cell_type": "code",
      "metadata": {
        "id": "0gQeGc-i0jAZ"
      },
      "source": [
        "import pandas as pd\n",
        "import numpy as np\n",
        "import matplotlib.pyplot as plt\n",
        "import seaborn as sns\n",
        "import datetime\n",
        "import plotly.graph_objects as go\n",
        "import plotly.express as px\n",
        "\n",
        "import os"
      ],
      "execution_count": null,
      "outputs": []
    },
    {
      "cell_type": "markdown",
      "metadata": {
        "id": "Of9SyYmLDInF"
      },
      "source": [
        "## Data Wrangling "
      ]
    },
    {
      "cell_type": "markdown",
      "metadata": {
        "id": "3VcCWkCKLMrC"
      },
      "source": [
        "###**Gathering** "
      ]
    },
    {
      "cell_type": "code",
      "metadata": {
        "id": "wMq5PaKJ1weC"
      },
      "source": [
        "#Import CSV file that contain data / Using head function to represent sample of data.\n",
        "\n",
        "df = pd.read_csv('/content/tmdb-movies.csv')\n",
        "df.head()"
      ],
      "execution_count": null,
      "outputs": []
    },
    {
      "cell_type": "markdown",
      "metadata": {
        "id": "oM748dtSMlfb"
      },
      "source": [
        "###**Assessing**"
      ]
    },
    {
      "cell_type": "code",
      "metadata": {
        "id": "5t8NGy_UzxQ5"
      },
      "source": [
        "#The column labels of the DataFrame.\n",
        "\n",
        "df.columns"
      ],
      "execution_count": null,
      "outputs": []
    },
    {
      "cell_type": "code",
      "metadata": {
        "id": "VdpcgwM734cJ"
      },
      "source": [
        "#Return a tuple representing the dimensionality of the DataFrame.\n",
        "\n",
        "df.shape"
      ],
      "execution_count": null,
      "outputs": []
    },
    {
      "cell_type": "code",
      "metadata": {
        "id": "jrYuXSbrH0ir"
      },
      "source": [
        "#Print a concise summary of a DataFrame.\n",
        "\n",
        "df.info()"
      ],
      "execution_count": null,
      "outputs": []
    },
    {
      "cell_type": "code",
      "metadata": {
        "id": "Nu5UnaepyJ_u"
      },
      "source": [
        "#Detect missing values and using (Sum) to sum missing values.\n",
        "\n",
        "df.isnull().sum()"
      ],
      "execution_count": null,
      "outputs": []
    },
    {
      "cell_type": "code",
      "metadata": {
        "id": "FvUP3QuGHo-M"
      },
      "source": [
        "#Generate descriptive statistics.\n",
        "\n",
        "df.describe()"
      ],
      "execution_count": null,
      "outputs": []
    },
    {
      "cell_type": "markdown",
      "metadata": {
        "id": "sLvlKv2vNIfS"
      },
      "source": [
        "> Quality issues     \n",
        "  * Incorrect data type for 'release_date' column.\n",
        "  * Missing records in ['imdb_id', 'cast', 'homepage', 'director', 'tagline', 'keywords', 'overview', 'genres', 'production_companies'] columns.\n",
        "  * The dataset contain lots of movies where the budget or revenue have a value of '0'.\n",
        "\n",
        "> Tidiness issues \n",
        "* 'homepage' not important for analysis.\n"
      ]
    },
    {
      "cell_type": "markdown",
      "metadata": {
        "id": "uCVnkYMnQHRK"
      },
      "source": [
        "###**Cleaning** "
      ]
    },
    {
      "cell_type": "code",
      "metadata": {
        "id": "3v9wewEOQbmo"
      },
      "source": [
        "#Make a copy of data files to save it from lose. \n",
        "\n",
        "investigate_data_copy = df.copy()\n",
        "investigate_data_copy.head()"
      ],
      "execution_count": null,
      "outputs": []
    },
    {
      "cell_type": "code",
      "metadata": {
        "id": "ZH3arbz-pTgo"
      },
      "source": [
        "#The column labels of the DataFrame.\n",
        "\n",
        "investigate_data_copy.columns"
      ],
      "execution_count": null,
      "outputs": []
    },
    {
      "cell_type": "code",
      "metadata": {
        "id": "_RSbUjR6Z8Fd"
      },
      "source": [
        "#check for null value \n",
        "investigate_data_copy.isnull().sum()"
      ],
      "execution_count": null,
      "outputs": []
    },
    {
      "cell_type": "code",
      "metadata": {
        "id": "sIU8Z2hRZ1Vw"
      },
      "source": [
        "#drop null value from data \n",
        "investigate_data_copy.dropna()"
      ],
      "execution_count": null,
      "outputs": []
    },
    {
      "cell_type": "code",
      "metadata": {
        "id": "20i2m2w4q4Dt"
      },
      "source": [
        "#Return boolean Series denoting duplicate rows.\n",
        "\n",
        "investigate_data_copy.duplicated().sum()"
      ],
      "execution_count": null,
      "outputs": []
    },
    {
      "cell_type": "code",
      "metadata": {
        "id": "Wf7odmKMrPXx"
      },
      "source": [
        "#Drop duplicates\n",
        "investigate_data_copy.drop_duplicates()"
      ],
      "execution_count": null,
      "outputs": []
    },
    {
      "cell_type": "code",
      "metadata": {
        "id": "K8F0J7Kpqq3x"
      },
      "source": [
        "# Convert type of column release_date to datetime type>\n",
        "\n",
        "investigate_data_copy['release_date'] = pd.to_datetime(investigate_data_copy['release_date'])"
      ],
      "execution_count": null,
      "outputs": []
    },
    {
      "cell_type": "code",
      "metadata": {
        "id": "GYXEYhIKphIF"
      },
      "source": [
        "#Drop extra columns in data\n",
        "\n",
        "investigate_data_copy.drop(['homepage'], axis=1, inplace=True)"
      ],
      "execution_count": null,
      "outputs": []
    },
    {
      "cell_type": "markdown",
      "metadata": {
        "id": "qZZFe9zM8X5M"
      },
      "source": [
        "##Exploratory Data Analysis\n",
        "\n",
        "**Tip:** Now that you've trimmed and cleaned your data, you're ready to move on to exploration. Compute statistics and create visualizations with the goal of addressing the research questions that you posed in the Introduction section. It is recommended that you be systematic with your approach. Look at one variable at a time, and then follow it up by looking at relationships between variables.\n"
      ]
    },
    {
      "cell_type": "markdown",
      "metadata": {
        "id": "UcLB9rOmu0BR"
      },
      "source": [
        "###**Research Question 1** \n",
        "\n",
        "**( Which year has the highest release of movies? )**"
      ]
    },
    {
      "cell_type": "code",
      "metadata": {
        "id": "pPG6P4Zqu0Tc"
      },
      "source": [
        "def highest_release_movie (investigate_data_copy):\n",
        "\n",
        "    # make group for each year and count the number of movies in each year \n",
        "    data=investigate_data_copy.groupby('release_year').count()['id']\n",
        "    print(data.tail())\n",
        "\n",
        "    #make group of the data according to their release year and count the total number of movies in each year and pot.\n",
        "    investigate_data_copy.groupby('release_year').count()['id'].plot(xticks = np.arange(1960,2016,5))\n",
        "\n",
        "    #set the figure size and labels\n",
        "    sns.set(rc={'figure.figsize':(10,5)})\n",
        "    plt.title(\"Year Vs Number Of Movies\",fontsize = 14)\n",
        "    plt.xlabel('Release year',fontsize = 13)\n",
        "    plt.ylabel('Number Of Movies',fontsize = 13)\n",
        "\n",
        "    #set the style sheet\n",
        "    sns.set_style(\"whitegrid\")\n",
        "\n",
        "    plt.show()"
      ],
      "execution_count": null,
      "outputs": []
    },
    {
      "cell_type": "markdown",
      "metadata": {
        "id": "TUN3PSdPvfHh"
      },
      "source": [
        "After Seeing the plot and the output we can conclude that year 2014 year has the highest release of movies (700) followed by year 2013 (659) and year 2015 (629)."
      ]
    },
    {
      "cell_type": "markdown",
      "metadata": {
        "id": "fhuQLkfp-Lac"
      },
      "source": [
        "###**Research Question 2** \n",
        "\n",
        "**( What is the top 10 production companies produce movies ? )**\n",
        "\n",
        "- The production companies fund the making of movies and offer the resources and manpower required to make it all possible. It is exciting to look at the great films that have been produced by some of the most productive companies depend on TMDb movie data.\n",
        "\n"
      ]
    },
    {
      "cell_type": "code",
      "metadata": {
        "id": "8C4aecK214Dw"
      },
      "source": [
        "investigate_data_copy['production_companies'].value_counts().head(10)"
      ],
      "execution_count": null,
      "outputs": []
    },
    {
      "cell_type": "markdown",
      "metadata": {
        "id": "w9sXNiHUBG5i"
      },
      "source": [
        "The following graph has 10 major production companies that reshaped the movies.\n",
        "\n",
        "**The rankings are based on research as well as the company name appears in the data set.**\n"
      ]
    },
    {
      "cell_type": "code",
      "metadata": {
        "id": "d37styF_KpMT"
      },
      "source": [
        "def production_companies(investigate_data_copy):\n",
        "    x = ['Paramount Pictures', 'Universal Pictures', 'Warner Bros.','Walt Disney Pictures','Metro-Goldwyn-Mayer (MGM)','Columbia Pictures','New Line Cinema','Touchstone Pictures','20th Century Fox','Twentieth Century Fox Film']\n",
        "    y = [156, 133, 84,76,72,72,61,51,50,49,]\n",
        "\n",
        "    # Use textposition='auto' for direct text\n",
        "    fig = go.Figure(data=[go.Bar(\n",
        "            x=x, y=y,\n",
        "            text=y,\n",
        "            textposition='auto',\n",
        "        )])\n",
        "\n",
        "    fig.update_layout(xaxis_title=\"Production companies\", yaxis_title=\"Number of movies\",title_text='Top 10 production companies produce movies.')\n",
        "    fig.show()"
      ],
      "execution_count": null,
      "outputs": []
    },
    {
      "cell_type": "markdown",
      "metadata": {
        "id": "_cRTB2spxf5p"
      },
      "source": [
        "According to the plot we can conclude that there are higher companies of release are Paramount Pictures and Universal picture.\n",
        "\n"
      ]
    },
    {
      "cell_type": "markdown",
      "metadata": {
        "id": "_ES_7XtMoDEs"
      },
      "source": [
        "###**Research Question 3** \n",
        "\n",
        "**( What kinds of properties are associated with movies that have high revenues? )**\n",
        "\n",
        "\n",
        "\n"
      ]
    },
    {
      "cell_type": "code",
      "metadata": {
        "id": "CjRh4yrjbqmt"
      },
      "source": [
        "from IPython.display import display\n",
        "def properties_associated_revenues(investigate_data_copy):\n",
        "    print(\"Properties are associated with movies that have high revenues\") \n",
        "    movie_top = investigate_data_copy.nlargest(10,'revenue')[['original_title','revenue','production_companies','genres']]\n",
        "    display(movie_top.head(len(movie_top)))\n"
      ],
      "execution_count": null,
      "outputs": []
    },
    {
      "cell_type": "markdown",
      "metadata": {
        "id": "81CKEuRtx_NX"
      },
      "source": [
        "According to the plot we can conclude that there properties are associated with movies that have high revenues."
      ]
    },
    {
      "cell_type": "markdown",
      "metadata": {
        "id": "NmdKjbBXxAcb"
      },
      "source": [
        "###**Research Question 4** \n",
        "\n",
        "**( Which Month Released Highest Number Of Movies In All Of The Years? And Which Month Made The Highest Average Revenue? )**\n",
        "\n",
        "\n"
      ]
    },
    {
      "cell_type": "code",
      "metadata": {
        "id": "0K8su3cFmu_u"
      },
      "source": [
        "def movies_with_month(investigate_data_copy):\n",
        "\n",
        "    #extract the month number from the release date.\n",
        "    month_release = investigate_data_copy['release_date'].dt.month\n",
        "\n",
        "    #count the movies in each month using value_counts().\n",
        "    number_of_release = month_release.value_counts().sort_index()\n",
        "    months=['Jan','Feb','Mar','Apr','May','Jun','Jul','Aug','Sep','Oct','Nov','Dec']\n",
        "    number_of_release = pd.DataFrame(number_of_release)\n",
        "    number_of_release['month'] = months\n",
        "\n",
        "    #change the column name of the new dataframe 'number_of_release'\n",
        "    number_of_release.rename(columns = {'release_date':'number_of_release'},inplace=True)\n",
        "\n",
        "    #plot the bar graph using plot.\n",
        "    number_of_release.plot(x='month',kind='bar',fontsize = 11,figsize=(8,6))\n",
        "\n",
        "    #set the labels and titles of the plot.\n",
        "    plt.title('Months vs Number Of Movie Releases',fontsize = 15)\n",
        "    plt.xlabel('Month',fontsize = 13)\n",
        "    plt.ylabel('Number of movie releases',fontsize = 13)\n",
        "    sns.set_style(\"darkgrid\")"
      ],
      "execution_count": null,
      "outputs": []
    },
    {
      "cell_type": "markdown",
      "metadata": {
        "id": "THnsSVQ-xWyO"
      },
      "source": [
        "According to the plot we can conclude that there are higher number of release in september and october month.\n"
      ]
    },
    {
      "cell_type": "markdown",
      "metadata": {
        "id": "su-YMEijyylR"
      },
      "source": [
        "###**Research Question 5** \n",
        "\n",
        "**( Which genres are most popular ?)**\n",
        "\n",
        "\n"
      ]
    },
    {
      "cell_type": "code",
      "metadata": {
        "id": "FNce-SZmzD4O"
      },
      "source": [
        "investigate_data_copy['genres'].value_counts().head(10)"
      ],
      "execution_count": null,
      "outputs": []
    },
    {
      "cell_type": "code",
      "metadata": {
        "id": "tIWr3RVSzX0M"
      },
      "source": [
        "def most_grnres(investigate_data_copy):\n",
        "    x = ['Comedy', 'Drama', 'Documentary','Drama|Romance','Comedy|Drama','Comedy|Romance','Horror|Thriller','Horror','Comedy|Drama|Romance','Drama|Thriller']\n",
        "    y = [712, 712, 312,289,280,268,259,253,222,138,]\n",
        "\n",
        "    # Use textposition='auto' for direct text\n",
        "    fig = go.Figure(data=[go.Bar(\n",
        "            x=x, y=y,\n",
        "            text=y,\n",
        "            textposition='auto',\n",
        "        )])\n",
        "\n",
        "    fig.update_layout(xaxis_title=\"Movies genres\", yaxis_title=\"Number of movies\", title_text='Genres are most popular')\n",
        "    fig.show()"
      ],
      "execution_count": null,
      "outputs": []
    },
    {
      "cell_type": "markdown",
      "metadata": {
        "id": "594kZGIN0ktw"
      },
      "source": [
        "According to the plot we can conclude that there are higher number of popular genres are comedy and drama.\n"
      ]
    },
    {
      "cell_type": "code",
      "metadata": {
        "id": "deYzZY1t7K2X"
      },
      "source": [
        "if __name__ == \"__main__\":\n",
        "    highest_release_movie(investigate_data_copy)\n",
        "    production_companies(investigate_data_copy)\n",
        "    properties_associated_revenues(investigate_data_copy)\n",
        "    movies_with_month(investigate_data_copy)\n",
        "    most_grnres(investigate_data_copy)  "
      ],
      "execution_count": null,
      "outputs": []
    },
    {
      "cell_type": "markdown",
      "metadata": {
        "id": "BlhkvSz31-z2"
      },
      "source": [
        "## **Conclusions**\n",
        "\n",
        "* Maximum Number Of Movies Release In year 2014.\n",
        "* Warner Bros, Universal Pictures and Paramount Pictures production companies earn more life time profit than other production companies.\n",
        "* septamper,octobor,november and december are most popular month for releasing movies, if you want to earn more profit.\n",
        "* Comady is the most popular genre, following by Drama and Documentary.\n",
        "\n",
        "**Limitations**\n",
        "\n",
        "*  It's not 100 percent guaranteed solution that this formula is gonna work, But it shows us that we have high probability of making high profits if we had similar characteristics as such. If we release a movie with these characteristics, it gives people high expectations from this movie. This was just one example of an influantial factor that would lead to different results, there are many that have to be taken care of.\n",
        "\n",
        "*  During the data cleaning process, I drop empty recorders  for easy parsing during the exploration phase. This increases the time taken in calculating the result.\n",
        "\n"
      ]
    },
    {
      "cell_type": "markdown",
      "metadata": {
        "id": "xhOahVG05qDC"
      },
      "source": [
        "**list of Web sites, books, forums, blog posts, github repositories, etc.**\n",
        "\n",
        "[Plotly](https://plotly.com/python/bar-charts/)\n",
        "\n",
        "[Matplotlib](https://matplotlib.org/gallery/index.html#subplots-axes-and-figures)\n",
        "\n",
        "[Pandas](https://pandas.pydata.org/pandas-docs/stable/index.html)"
      ]
    }
  ]
}